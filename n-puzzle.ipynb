{
 "cells": [
  {
   "cell_type": "code",
   "execution_count": 90,
   "metadata": {
    "id": "ry_y1CNYjxvt"
   },
   "outputs": [],
   "source": [
    "import functools\n",
    "from collections import namedtuple\n",
    "from random import choice\n",
    "from tqdm.auto import tqdm\n",
    "import numpy as np\n",
    "from queue import PriorityQueue\n",
    "from numpy import array_str\n",
    "import heapq\n"
   ]
  },
  {
   "cell_type": "code",
   "execution_count": 204,
   "metadata": {
    "id": "jQqCbgHjj7M3"
   },
   "outputs": [],
   "source": [
    "PUZZLE_DIM = 2  ### change to 5\n",
    "action = namedtuple('Action', ['pos1', 'pos2'])"
   ]
  },
  {
   "cell_type": "code",
   "execution_count": 39,
   "metadata": {},
   "outputs": [],
   "source": [
    "### put before the function the @\n",
    "def counter(fn):\n",
    "    \"\"\"Simple decorator for counting number of calls\"\"\"\n",
    "\n",
    "    @functools.wraps(fn)\n",
    "    def helper(*args, **kargs):\n",
    "        helper.calls += 1\n",
    "        return fn(*args, **kargs)\n",
    "\n",
    "    helper.calls = 0\n",
    "    return helper"
   ]
  },
  {
   "cell_type": "code",
   "execution_count": null,
   "metadata": {
    "id": "r2Lcpky3j7W8"
   },
   "outputs": [],
   "source": [
    "def available_actions(state: np.ndarray) -> list['Action']:\n",
    "    x, y = [int(_[0]) for _ in np.where(state == 0)]\n",
    "    actions = list()\n",
    "    if x > 0:\n",
    "        actions.append(action((x, y), (x - 1, y)))\n",
    "    if x < PUZZLE_DIM - 1:\n",
    "        actions.append(action((x, y), (x + 1, y)))\n",
    "    if y > 0:\n",
    "        actions.append(action((x, y), (x, y - 1)))\n",
    "    if y < PUZZLE_DIM - 1:\n",
    "        actions.append(action((x, y), (x, y + 1)))\n",
    "    return actions\n",
    "\n",
    "\n",
    "\n",
    "def do_action(state: np.ndarray, action: 'Action') -> np.ndarray:\n",
    "    new_state = state.copy()\n",
    "    new_state[action.pos1], new_state[action.pos2] = new_state[action.pos2], new_state[action.pos1]\n",
    "    return new_state"
   ]
  },
  {
   "cell_type": "markdown",
   "metadata": {},
   "source": [
    "More function"
   ]
  },
  {
   "cell_type": "code",
   "execution_count": 205,
   "metadata": {
    "colab": {
     "base_uri": "https://localhost:8080/"
    },
    "executionInfo": {
     "elapsed": 721,
     "status": "ok",
     "timestamp": 1731487513759,
     "user": {
      "displayName": "Davide Monaco",
      "userId": "10089346750858121532"
     },
     "user_tz": -60
    },
    "id": "KmQf4VHNj7tn",
    "outputId": "c31a4fe7-f5b2-4069-aacb-0b3d6ab67295"
   },
   "outputs": [
    {
     "name": "stdout",
     "output_type": "stream",
     "text": [
      "[[1 2]\n",
      " [3 0]]\n"
     ]
    }
   ],
   "source": [
    "RANDOMIZE_STEPS = 100_000\n",
    "state = np.array([i for i in range(1, PUZZLE_DIM**2)] + [0]).reshape((PUZZLE_DIM, PUZZLE_DIM))\n",
    "goal = state\n",
    "print(state)"
   ]
  },
  {
   "cell_type": "code",
   "execution_count": 207,
   "metadata": {},
   "outputs": [],
   "source": [
    "def goal_function( state ,goal ):\n",
    "    label = np.array_equal(state, goal)\n",
    "    if(label):\n",
    "        return True\n",
    "    else:\n",
    "        return False"
   ]
  },
  {
   "cell_type": "code",
   "execution_count": 208,
   "metadata": {
    "colab": {
     "base_uri": "https://localhost:8080/",
     "height": 139,
     "referenced_widgets": [
      "921c065425624900afbca75a2b9916ed",
      "0c7737c30ac64003a3c509a20b34299f",
      "038d1f851ecb4a7aa43a34d16fb779d9",
      "3762f93299f64118ae8ff6cf927d53fb",
      "a648e57c791443c6a19fbf12d85d1039",
      "23f170bca529442d9be637d1b42ab36e",
      "35f029ebdc204a75be5aa884875a8b83",
      "6f8ed2feda2248e4a3d1a43541ea4929",
      "5a6e56ac233544f69d7d781d0b17944e",
      "2a9ae84c8e77425abde82f4b80b17938",
      "cb88cc49c1624f038f1a2bf1fe40e152"
     ]
    },
    "executionInfo": {
     "elapsed": 2596,
     "status": "ok",
     "timestamp": 1731487520741,
     "user": {
      "displayName": "Davide Monaco",
      "userId": "10089346750858121532"
     },
     "user_tz": -60
    },
    "id": "72_rws33j8Ih",
    "outputId": "1c995baa-384e-4438-bed6-9d53b33e6c93"
   },
   "outputs": [
    {
     "name": "stderr",
     "output_type": "stream",
     "text": [
      "Randomizing: 100%|██████████| 100000/100000 [00:00<00:00, 150450.28it/s]\n"
     ]
    },
    {
     "data": {
      "text/plain": [
       "array([[0, 3],\n",
       "       [2, 1]])"
      ]
     },
     "execution_count": 208,
     "metadata": {},
     "output_type": "execute_result"
    }
   ],
   "source": [
    "for r in tqdm(range(RANDOMIZE_STEPS), desc='Randomizing'):\n",
    "    state = do_action(state, choice(available_actions(state)))\n",
    "state"
   ]
  },
  {
   "cell_type": "code",
   "execution_count": null,
   "metadata": {},
   "outputs": [],
   "source": [
    "class CustomPriorityQueue:\n",
    "    def __init__(self):\n",
    "        self.pq = PriorityQueue()  # The actual PriorityQueue\n",
    "        self.items_set = set()  # Set to track items in the queue\n",
    "        self.count = 0  # Variable to keep track of the number of elements\n",
    "    \n",
    "    def put(self, item, priority):\n",
    "        self.pq.put((item, priority))  # Add to the PriorityQueue\n",
    "        self.items_set.add(priority)  # Track item in the set\n",
    "        self.count += 1  # Increment the count when an item is added\n",
    "\n",
    "    def get(self):\n",
    "        priority, item = self.pq.get()  # Get from the PriorityQueue\n",
    "        self.items_set.remove(priority)  # Remove from the set\n",
    "        self.count -= 1  # Increment the count when an item is added\n",
    "        return item, priority\n",
    "    \n",
    "    def contains(self, item):\n",
    "        return item in self.items_set  # Check if the item exists in the set\n",
    "    \n",
    "    def empty(self):\n",
    "        return self.pq.empty()  # Check if the PriorityQueue is empty\n",
    "    \n",
    "    def size(self):\n",
    "        return self.count  # Return the number of elements in the queue"
   ]
  },
  {
   "cell_type": "code",
   "execution_count": null,
   "metadata": {},
   "outputs": [],
   "source": [
    "####\n",
    "import logging\n",
    "\n",
    "def search( initial_state , cost_function):\n",
    "    state =initial_state\n",
    "    frontier = CustomPriorityQueue()\n",
    "    state_cost = dict() \n",
    "    parent_state = dict()\n",
    "    global_state = dict() \n",
    "\n",
    "    state_cost[array_str(state)] = 0\n",
    "    parent_state[array_str(state)] = None\n",
    "    global_state[array_str(state)] = state\n",
    "\n",
    "    while state is not None and not goal_function(state, goal):\n",
    "    #for _ in range(5):\n",
    "        for a in available_actions(state):\n",
    "            new_state = do_action(state,a)\n",
    "            cost = cost_function(a)   ### given an action, give you the cost\n",
    "            if(array_str(new_state) not in state_cost and not frontier.contains(array_str(new_state)) ):\n",
    "                state_cost[array_str(new_state)]= state_cost[array_str(state)]  + cost\n",
    "                new_cost = state_cost[array_str(new_state)]\n",
    "                parent_state[array_str(new_state)] = state\n",
    "                global_state[array_str(new_state)] = new_state\n",
    "                frontier.put(  new_cost  , array_str(new_state)   )  ### priority item\n",
    "            elif( frontier.contains(array_str(new_state)) and state_cost[array_str(new_state)] > state_cost[array_str(state)] + cost):  #array_str(new_state) in frontier\n",
    "                parent_state[array_str(new_state)] = state\n",
    "                state_cost[array_str(new_state)] = state_cost[array_str(state)] + cost\n",
    "                global_state[array_str(new_state)] = new_state\n",
    "        \n",
    "        if not frontier.empty():\n",
    "                tuple = frontier.get()\n",
    "                print(tuple)\n",
    "                arr_state = tuple[0]\n",
    "                state = global_state[arr_state]\n",
    "        else:\n",
    "            state = None\n",
    "    path = list()\n",
    "    s = state\n",
    "    flag =True\n",
    "    while flag:        \n",
    "        # Check if array_str(s) is not None\n",
    "        if array_str(s) is not None:\n",
    "            path.append(parent_state[array_str(s)])\n",
    "            s = parent_state[array_str(s)]\n",
    "            if(s is None):\n",
    "                flag= False\n",
    "        \n",
    "\n",
    "    logging.info(f\"Found a solution in {len(path):,} steps; visited {len(state_cost):,} states\")\n",
    "    return list(reversed(path))\n"
   ]
  },
  {
   "cell_type": "code",
   "execution_count": 234,
   "metadata": {},
   "outputs": [
    {
     "name": "stdout",
     "output_type": "stream",
     "text": [
      "('[[2 3]\\n [0 1]]', 1)\n",
      "('[[3 0]\\n [2 1]]', 1)\n",
      "('[[2 3]\\n [1 0]]', 2)\n",
      "('[[3 1]\\n [2 0]]', 2)\n",
      "('[[2 0]\\n [1 3]]', 3)\n",
      "('[[3 1]\\n [0 2]]', 3)\n",
      "('[[0 1]\\n [3 2]]', 4)\n",
      "('[[0 2]\\n [1 3]]', 4)\n",
      "('[[1 0]\\n [3 2]]', 5)\n",
      "('[[1 2]\\n [0 3]]', 5)\n",
      "('[[1 2]\\n [3 0]]', 6)\n",
      "[[1 0]\n",
      " [3 2]]\n",
      "<class 'numpy.ndarray'>\n",
      "[[0 1]\n",
      " [3 2]]\n",
      "<class 'numpy.ndarray'>\n",
      "[[3 1]\n",
      " [0 2]]\n",
      "<class 'numpy.ndarray'>\n",
      "[[3 1]\n",
      " [2 0]]\n",
      "<class 'numpy.ndarray'>\n",
      "[[3 0]\n",
      " [2 1]]\n",
      "<class 'numpy.ndarray'>\n",
      "[[0 3]\n",
      " [2 1]]\n",
      "<class 'numpy.ndarray'>\n",
      "None\n",
      "<class 'NoneType'>\n"
     ]
    },
    {
     "ename": "AttributeError",
     "evalue": "'NoneType' object has no attribute 'shape'",
     "output_type": "error",
     "traceback": [
      "\u001b[1;31m---------------------------------------------------------------------------\u001b[0m",
      "\u001b[1;31mAttributeError\u001b[0m                            Traceback (most recent call last)",
      "Cell \u001b[1;32mIn[234], line 1\u001b[0m\n\u001b[1;32m----> 1\u001b[0m solution \u001b[38;5;241m=\u001b[39m \u001b[43msearch\u001b[49m\u001b[43m(\u001b[49m\u001b[43m \u001b[49m\u001b[43mstate\u001b[49m\u001b[43m \u001b[49m\u001b[43m,\u001b[49m\u001b[43m \u001b[49m\u001b[38;5;28;43;01mlambda\u001b[39;49;00m\u001b[43m \u001b[49m\u001b[43mx\u001b[49m\u001b[43m:\u001b[49m\u001b[43m \u001b[49m\u001b[38;5;241;43m1\u001b[39;49m\u001b[43m)\u001b[49m\n\u001b[0;32m      2\u001b[0m \u001b[38;5;28mprint\u001b[39m(solution)\n",
      "Cell \u001b[1;32mIn[233], line 43\u001b[0m, in \u001b[0;36msearch\u001b[1;34m(initial_state, cost_function)\u001b[0m\n\u001b[0;32m     40\u001b[0m flag \u001b[38;5;241m=\u001b[39m\u001b[38;5;28;01mTrue\u001b[39;00m\n\u001b[0;32m     41\u001b[0m \u001b[38;5;28;01mwhile\u001b[39;00m flag:        \n\u001b[0;32m     42\u001b[0m     \u001b[38;5;66;03m# Check if array_str(s) is not None\u001b[39;00m\n\u001b[1;32m---> 43\u001b[0m     \u001b[38;5;28;01mif\u001b[39;00m \u001b[43marray_str\u001b[49m\u001b[43m(\u001b[49m\u001b[43ms\u001b[49m\u001b[43m)\u001b[49m \u001b[38;5;129;01mis\u001b[39;00m \u001b[38;5;129;01mnot\u001b[39;00m \u001b[38;5;28;01mNone\u001b[39;00m:\n\u001b[0;32m     44\u001b[0m         path\u001b[38;5;241m.\u001b[39mappend(parent_state[array_str(s)])\n\u001b[0;32m     45\u001b[0m         s \u001b[38;5;241m=\u001b[39m parent_state[array_str(s)]\n",
      "File \u001b[1;32mc:\\Users\\david\\OneDrive\\Desktop\\Project\\Computational Intellingence\\CI2024_lab3\\.venv\\lib\\site-packages\\numpy\\_core\\arrayprint.py:1737\u001b[0m, in \u001b[0;36marray_str\u001b[1;34m(a, max_line_width, precision, suppress_small)\u001b[0m\n\u001b[0;32m   1700\u001b[0m \u001b[38;5;129m@array_function_dispatch\u001b[39m(_array_str_dispatcher, module\u001b[38;5;241m=\u001b[39m\u001b[38;5;124m'\u001b[39m\u001b[38;5;124mnumpy\u001b[39m\u001b[38;5;124m'\u001b[39m)\n\u001b[0;32m   1701\u001b[0m \u001b[38;5;28;01mdef\u001b[39;00m \u001b[38;5;21marray_str\u001b[39m(a, max_line_width\u001b[38;5;241m=\u001b[39m\u001b[38;5;28;01mNone\u001b[39;00m, precision\u001b[38;5;241m=\u001b[39m\u001b[38;5;28;01mNone\u001b[39;00m, suppress_small\u001b[38;5;241m=\u001b[39m\u001b[38;5;28;01mNone\u001b[39;00m):\n\u001b[0;32m   1702\u001b[0m \u001b[38;5;250m    \u001b[39m\u001b[38;5;124;03m\"\"\"\u001b[39;00m\n\u001b[0;32m   1703\u001b[0m \u001b[38;5;124;03m    Return a string representation of the data in an array.\u001b[39;00m\n\u001b[0;32m   1704\u001b[0m \n\u001b[1;32m   (...)\u001b[0m\n\u001b[0;32m   1735\u001b[0m \n\u001b[0;32m   1736\u001b[0m \u001b[38;5;124;03m    \"\"\"\u001b[39;00m\n\u001b[1;32m-> 1737\u001b[0m     \u001b[38;5;28;01mreturn\u001b[39;00m \u001b[43m_array_str_implementation\u001b[49m\u001b[43m(\u001b[49m\n\u001b[0;32m   1738\u001b[0m \u001b[43m        \u001b[49m\u001b[43ma\u001b[49m\u001b[43m,\u001b[49m\u001b[43m \u001b[49m\u001b[43mmax_line_width\u001b[49m\u001b[43m,\u001b[49m\u001b[43m \u001b[49m\u001b[43mprecision\u001b[49m\u001b[43m,\u001b[49m\u001b[43m \u001b[49m\u001b[43msuppress_small\u001b[49m\u001b[43m)\u001b[49m\n",
      "File \u001b[1;32mc:\\Users\\david\\OneDrive\\Desktop\\Project\\Computational Intellingence\\CI2024_lab3\\.venv\\lib\\site-packages\\numpy\\_core\\arrayprint.py:1686\u001b[0m, in \u001b[0;36m_array_str_implementation\u001b[1;34m(a, max_line_width, precision, suppress_small, array2string)\u001b[0m\n\u001b[0;32m   1681\u001b[0m     \u001b[38;5;28;01mreturn\u001b[39;00m \u001b[38;5;28mstr\u001b[39m(a\u001b[38;5;241m.\u001b[39mitem())\n\u001b[0;32m   1683\u001b[0m \u001b[38;5;66;03m# the str of 0d arrays is a special case: It should appear like a scalar,\u001b[39;00m\n\u001b[0;32m   1684\u001b[0m \u001b[38;5;66;03m# so floats are not truncated by `precision`, and strings are not wrapped\u001b[39;00m\n\u001b[0;32m   1685\u001b[0m \u001b[38;5;66;03m# in quotes. So we return the str of the scalar value.\u001b[39;00m\n\u001b[1;32m-> 1686\u001b[0m \u001b[38;5;28;01mif\u001b[39;00m \u001b[43ma\u001b[49m\u001b[38;5;241;43m.\u001b[39;49m\u001b[43mshape\u001b[49m \u001b[38;5;241m==\u001b[39m ():\n\u001b[0;32m   1687\u001b[0m     \u001b[38;5;66;03m# obtain a scalar and call str on it, avoiding problems for subclasses\u001b[39;00m\n\u001b[0;32m   1688\u001b[0m     \u001b[38;5;66;03m# for which indexing with () returns a 0d instead of a scalar by using\u001b[39;00m\n\u001b[0;32m   1689\u001b[0m     \u001b[38;5;66;03m# ndarray's getindex. Also guard against recursive 0d object arrays.\u001b[39;00m\n\u001b[0;32m   1690\u001b[0m     \u001b[38;5;28;01mreturn\u001b[39;00m _guarded_repr_or_str(np\u001b[38;5;241m.\u001b[39mndarray\u001b[38;5;241m.\u001b[39m\u001b[38;5;21m__getitem__\u001b[39m(a, ()))\n\u001b[0;32m   1692\u001b[0m \u001b[38;5;28;01mreturn\u001b[39;00m array2string(a, max_line_width, precision, suppress_small, \u001b[38;5;124m'\u001b[39m\u001b[38;5;124m \u001b[39m\u001b[38;5;124m'\u001b[39m, \u001b[38;5;124m\"\u001b[39m\u001b[38;5;124m\"\u001b[39m)\n",
      "\u001b[1;31mAttributeError\u001b[0m: 'NoneType' object has no attribute 'shape'"
     ]
    }
   ],
   "source": [
    "solution = search( state , lambda x: 1)\n",
    "print(solution)"
   ]
  },
  {
   "cell_type": "code",
   "execution_count": 178,
   "metadata": {},
   "outputs": [
    {
     "ename": "KeyError",
     "evalue": "1",
     "output_type": "error",
     "traceback": [
      "\u001b[1;31m---------------------------------------------------------------------------\u001b[0m",
      "\u001b[1;31mKeyError\u001b[0m                                  Traceback (most recent call last)",
      "Cell \u001b[1;32mIn[178], line 1\u001b[0m\n\u001b[1;32m----> 1\u001b[0m \u001b[38;5;28mprint\u001b[39m(\u001b[43msolution\u001b[49m\u001b[38;5;241;43m.\u001b[39;49m\u001b[43mget\u001b[49m\u001b[43m(\u001b[49m\u001b[43m)\u001b[49m)\n",
      "Cell \u001b[1;32mIn[172], line 14\u001b[0m, in \u001b[0;36mCustomPriorityQueue.get\u001b[1;34m(self)\u001b[0m\n\u001b[0;32m     12\u001b[0m \u001b[38;5;28;01mdef\u001b[39;00m \u001b[38;5;21mget\u001b[39m(\u001b[38;5;28mself\u001b[39m):\n\u001b[0;32m     13\u001b[0m     priority, item \u001b[38;5;241m=\u001b[39m \u001b[38;5;28mself\u001b[39m\u001b[38;5;241m.\u001b[39mpq\u001b[38;5;241m.\u001b[39mget()  \u001b[38;5;66;03m# Get from the PriorityQueue\u001b[39;00m\n\u001b[1;32m---> 14\u001b[0m     \u001b[38;5;28;43mself\u001b[39;49m\u001b[38;5;241;43m.\u001b[39;49m\u001b[43mitems_set\u001b[49m\u001b[38;5;241;43m.\u001b[39;49m\u001b[43mremove\u001b[49m\u001b[43m(\u001b[49m\u001b[43mitem\u001b[49m\u001b[43m)\u001b[49m  \u001b[38;5;66;03m# Remove from the set\u001b[39;00m\n\u001b[0;32m     15\u001b[0m     \u001b[38;5;28mself\u001b[39m\u001b[38;5;241m.\u001b[39mcount \u001b[38;5;241m-\u001b[39m\u001b[38;5;241m=\u001b[39m \u001b[38;5;241m1\u001b[39m  \u001b[38;5;66;03m# Increment the count when an item is added\u001b[39;00m\n\u001b[0;32m     16\u001b[0m     \u001b[38;5;28;01mreturn\u001b[39;00m priority, item\n",
      "\u001b[1;31mKeyError\u001b[0m: 1"
     ]
    }
   ],
   "source": [
    "print(solution.get())"
   ]
  },
  {
   "cell_type": "code",
   "execution_count": null,
   "metadata": {},
   "outputs": [],
   "source": [
    "def search(state):\n",
    "    global goal\n",
    "    cost=0\n",
    "    frontier = []\n",
    "    cost_frontier = []\n",
    "    state_cost= {}\n",
    "    state_cost[array_str(state)] = 0\n",
    "\n",
    "    while state is not None and  not goal_function(state, goal):\n",
    "        print(state)\n",
    "        for a in available_actions(state):\n",
    "            new_state = do_action(state, a)\n",
    "\n",
    "            if array_str(new_state) is not state_cost and new_state is not frontier:\n",
    "                new_cost = state_cost[array_str(state)] +1  ### in this case each step is + 1   \n",
    "                state_cost[array_str(new_state)] = new_cost \n",
    "        \n",
    "                frontier.append(new_state)\n",
    "                cost_frontier.append(new_cost)\n",
    "\n",
    "            elif( new_state in frontier and state_cost[array_str(new_state)] < state_cost[array_str(state)] + 1 ):\n",
    "                state_cost[array_str(new_cost)] =  state_cost[array_str(state)] + 1   # is the cost function\n",
    "                \n",
    "        if not frontier:\n",
    "            state = None\n",
    "            cost = None\n",
    "        else:\n",
    "            state = frontier.pop()\n",
    "            cost = cost_frontier.pop()\n",
    "    print(\"solution found  \", state )"
   ]
  },
  {
   "cell_type": "code",
   "execution_count": null,
   "metadata": {},
   "outputs": [],
   "source": [
    "search(state)"
   ]
  },
  {
   "cell_type": "code",
   "execution_count": null,
   "metadata": {},
   "outputs": [],
   "source": [
    "\n",
    "\n",
    "\n"
   ]
  },
  {
   "cell_type": "code",
   "execution_count": null,
   "metadata": {},
   "outputs": [],
   "source": [
    "frontier = []\n",
    "cost_frontier = []\n",
    "\n",
    "cost=0\n",
    "frontier.append(state)\n",
    "cost_frontier.append(0)\n",
    "\n",
    "while not goal_function( state,goal ):\n",
    "    state = frontier.pop()\n",
    "    cost = cost_frontier.pop()\n",
    "    print()\n",
    "    print(state)\n",
    "    for a in available_actions(state):\n",
    "        new_state = do_action(state, a )\n",
    "        if(new_state is not frontier):\n",
    "            frontier.append(new_state)\n",
    "            cost_frontier.append(cost+1)\n",
    "        elif ( new_state is frontier and cost_frontier[frontier.index(new_state)] > cost + 1 ):\n",
    "            old_cost =  cost_frontier[frontier.index(new_state)] \n",
    "            cost_frontier[frontier.index(new_state)] = cost + 1\n",
    "    if len(frontier)!=0:\n",
    "        state = frontier.pop()\n",
    "        cost = cost_frontier.pop()\n",
    "\n",
    "print( state , cost        )"
   ]
  },
  {
   "cell_type": "code",
   "execution_count": null,
   "metadata": {},
   "outputs": [],
   "source": []
  },
  {
   "cell_type": "code",
   "execution_count": null,
   "metadata": {},
   "outputs": [],
   "source": []
  },
  {
   "cell_type": "code",
   "execution_count": null,
   "metadata": {},
   "outputs": [],
   "source": []
  },
  {
   "cell_type": "code",
   "execution_count": null,
   "metadata": {},
   "outputs": [],
   "source": [
    "frontier = []\n",
    "cost_frontier = []\n",
    "\n",
    "cost=0\n"
   ]
  },
  {
   "cell_type": "code",
   "execution_count": null,
   "metadata": {},
   "outputs": [],
   "source": [
    "while state is not None and not goal_function(state, goal): \n",
    "    for a in available_actions(state):\n",
    "        print(a)\n",
    "        new_state = do_action(state,a) \n",
    "        print(new_state)\n",
    "        if new_state not in frontier:   \n",
    "            frontier.append(new_state)\n",
    "            cost_frontier.append(cost+1)\n",
    "        elif new_state in frontier and  cost_frontier[frontier.index(new_state)] > cost_frontier[frontier.index(new_state)]+1 :\n",
    "            cost_frontier[frontier.index(new_state)]  =cost_frontier[frontier.index(new_state)]+1\n",
    "    if frontier:\n",
    "        state = frontier.pop()\n",
    "        cost = cost_frontier\n",
    "    else:\n",
    "        state = None\n",
    "    #logging.info(f\"Found a solution in {len(path):,} steps; visited {len(state_cost):,} states\")\n",
    "\n",
    "\n"
   ]
  },
  {
   "cell_type": "code",
   "execution_count": null,
   "metadata": {
    "id": "5WCAtQcNltoK"
   },
   "outputs": [],
   "source": []
  },
  {
   "cell_type": "code",
   "execution_count": null,
   "metadata": {},
   "outputs": [],
   "source": []
  },
  {
   "cell_type": "code",
   "execution_count": null,
   "metadata": {
    "id": "FH2bUsaOuVyj"
   },
   "outputs": [],
   "source": []
  }
 ],
 "metadata": {
  "colab": {
   "authorship_tag": "ABX9TyMyx8SZyxteEYwPpU+yRFJe",
   "provenance": []
  },
  "kernelspec": {
   "display_name": ".venv",
   "language": "python",
   "name": "python3"
  },
  "language_info": {
   "codemirror_mode": {
    "name": "ipython",
    "version": 3
   },
   "file_extension": ".py",
   "mimetype": "text/x-python",
   "name": "python",
   "nbconvert_exporter": "python",
   "pygments_lexer": "ipython3",
   "version": "3.10.11"
  },
  "widgets": {
   "application/vnd.jupyter.widget-state+json": {
    "038d1f851ecb4a7aa43a34d16fb779d9": {
     "model_module": "@jupyter-widgets/controls",
     "model_module_version": "1.5.0",
     "model_name": "FloatProgressModel",
     "state": {
      "_dom_classes": [],
      "_model_module": "@jupyter-widgets/controls",
      "_model_module_version": "1.5.0",
      "_model_name": "FloatProgressModel",
      "_view_count": null,
      "_view_module": "@jupyter-widgets/controls",
      "_view_module_version": "1.5.0",
      "_view_name": "ProgressView",
      "bar_style": "success",
      "description": "",
      "description_tooltip": null,
      "layout": "IPY_MODEL_6f8ed2feda2248e4a3d1a43541ea4929",
      "max": 100000,
      "min": 0,
      "orientation": "horizontal",
      "style": "IPY_MODEL_5a6e56ac233544f69d7d781d0b17944e",
      "value": 100000
     }
    },
    "0c7737c30ac64003a3c509a20b34299f": {
     "model_module": "@jupyter-widgets/controls",
     "model_module_version": "1.5.0",
     "model_name": "HTMLModel",
     "state": {
      "_dom_classes": [],
      "_model_module": "@jupyter-widgets/controls",
      "_model_module_version": "1.5.0",
      "_model_name": "HTMLModel",
      "_view_count": null,
      "_view_module": "@jupyter-widgets/controls",
      "_view_module_version": "1.5.0",
      "_view_name": "HTMLView",
      "description": "",
      "description_tooltip": null,
      "layout": "IPY_MODEL_23f170bca529442d9be637d1b42ab36e",
      "placeholder": "​",
      "style": "IPY_MODEL_35f029ebdc204a75be5aa884875a8b83",
      "value": "Randomizing: 100%"
     }
    },
    "23f170bca529442d9be637d1b42ab36e": {
     "model_module": "@jupyter-widgets/base",
     "model_module_version": "1.2.0",
     "model_name": "LayoutModel",
     "state": {
      "_model_module": "@jupyter-widgets/base",
      "_model_module_version": "1.2.0",
      "_model_name": "LayoutModel",
      "_view_count": null,
      "_view_module": "@jupyter-widgets/base",
      "_view_module_version": "1.2.0",
      "_view_name": "LayoutView",
      "align_content": null,
      "align_items": null,
      "align_self": null,
      "border": null,
      "bottom": null,
      "display": null,
      "flex": null,
      "flex_flow": null,
      "grid_area": null,
      "grid_auto_columns": null,
      "grid_auto_flow": null,
      "grid_auto_rows": null,
      "grid_column": null,
      "grid_gap": null,
      "grid_row": null,
      "grid_template_areas": null,
      "grid_template_columns": null,
      "grid_template_rows": null,
      "height": null,
      "justify_content": null,
      "justify_items": null,
      "left": null,
      "margin": null,
      "max_height": null,
      "max_width": null,
      "min_height": null,
      "min_width": null,
      "object_fit": null,
      "object_position": null,
      "order": null,
      "overflow": null,
      "overflow_x": null,
      "overflow_y": null,
      "padding": null,
      "right": null,
      "top": null,
      "visibility": null,
      "width": null
     }
    },
    "2a9ae84c8e77425abde82f4b80b17938": {
     "model_module": "@jupyter-widgets/base",
     "model_module_version": "1.2.0",
     "model_name": "LayoutModel",
     "state": {
      "_model_module": "@jupyter-widgets/base",
      "_model_module_version": "1.2.0",
      "_model_name": "LayoutModel",
      "_view_count": null,
      "_view_module": "@jupyter-widgets/base",
      "_view_module_version": "1.2.0",
      "_view_name": "LayoutView",
      "align_content": null,
      "align_items": null,
      "align_self": null,
      "border": null,
      "bottom": null,
      "display": null,
      "flex": null,
      "flex_flow": null,
      "grid_area": null,
      "grid_auto_columns": null,
      "grid_auto_flow": null,
      "grid_auto_rows": null,
      "grid_column": null,
      "grid_gap": null,
      "grid_row": null,
      "grid_template_areas": null,
      "grid_template_columns": null,
      "grid_template_rows": null,
      "height": null,
      "justify_content": null,
      "justify_items": null,
      "left": null,
      "margin": null,
      "max_height": null,
      "max_width": null,
      "min_height": null,
      "min_width": null,
      "object_fit": null,
      "object_position": null,
      "order": null,
      "overflow": null,
      "overflow_x": null,
      "overflow_y": null,
      "padding": null,
      "right": null,
      "top": null,
      "visibility": null,
      "width": null
     }
    },
    "35f029ebdc204a75be5aa884875a8b83": {
     "model_module": "@jupyter-widgets/controls",
     "model_module_version": "1.5.0",
     "model_name": "DescriptionStyleModel",
     "state": {
      "_model_module": "@jupyter-widgets/controls",
      "_model_module_version": "1.5.0",
      "_model_name": "DescriptionStyleModel",
      "_view_count": null,
      "_view_module": "@jupyter-widgets/base",
      "_view_module_version": "1.2.0",
      "_view_name": "StyleView",
      "description_width": ""
     }
    },
    "3762f93299f64118ae8ff6cf927d53fb": {
     "model_module": "@jupyter-widgets/controls",
     "model_module_version": "1.5.0",
     "model_name": "HTMLModel",
     "state": {
      "_dom_classes": [],
      "_model_module": "@jupyter-widgets/controls",
      "_model_module_version": "1.5.0",
      "_model_name": "HTMLModel",
      "_view_count": null,
      "_view_module": "@jupyter-widgets/controls",
      "_view_module_version": "1.5.0",
      "_view_name": "HTMLView",
      "description": "",
      "description_tooltip": null,
      "layout": "IPY_MODEL_2a9ae84c8e77425abde82f4b80b17938",
      "placeholder": "​",
      "style": "IPY_MODEL_cb88cc49c1624f038f1a2bf1fe40e152",
      "value": " 100000/100000 [00:01&lt;00:00, 57205.11it/s]"
     }
    },
    "5a6e56ac233544f69d7d781d0b17944e": {
     "model_module": "@jupyter-widgets/controls",
     "model_module_version": "1.5.0",
     "model_name": "ProgressStyleModel",
     "state": {
      "_model_module": "@jupyter-widgets/controls",
      "_model_module_version": "1.5.0",
      "_model_name": "ProgressStyleModel",
      "_view_count": null,
      "_view_module": "@jupyter-widgets/base",
      "_view_module_version": "1.2.0",
      "_view_name": "StyleView",
      "bar_color": null,
      "description_width": ""
     }
    },
    "6f8ed2feda2248e4a3d1a43541ea4929": {
     "model_module": "@jupyter-widgets/base",
     "model_module_version": "1.2.0",
     "model_name": "LayoutModel",
     "state": {
      "_model_module": "@jupyter-widgets/base",
      "_model_module_version": "1.2.0",
      "_model_name": "LayoutModel",
      "_view_count": null,
      "_view_module": "@jupyter-widgets/base",
      "_view_module_version": "1.2.0",
      "_view_name": "LayoutView",
      "align_content": null,
      "align_items": null,
      "align_self": null,
      "border": null,
      "bottom": null,
      "display": null,
      "flex": null,
      "flex_flow": null,
      "grid_area": null,
      "grid_auto_columns": null,
      "grid_auto_flow": null,
      "grid_auto_rows": null,
      "grid_column": null,
      "grid_gap": null,
      "grid_row": null,
      "grid_template_areas": null,
      "grid_template_columns": null,
      "grid_template_rows": null,
      "height": null,
      "justify_content": null,
      "justify_items": null,
      "left": null,
      "margin": null,
      "max_height": null,
      "max_width": null,
      "min_height": null,
      "min_width": null,
      "object_fit": null,
      "object_position": null,
      "order": null,
      "overflow": null,
      "overflow_x": null,
      "overflow_y": null,
      "padding": null,
      "right": null,
      "top": null,
      "visibility": null,
      "width": null
     }
    },
    "921c065425624900afbca75a2b9916ed": {
     "model_module": "@jupyter-widgets/controls",
     "model_module_version": "1.5.0",
     "model_name": "HBoxModel",
     "state": {
      "_dom_classes": [],
      "_model_module": "@jupyter-widgets/controls",
      "_model_module_version": "1.5.0",
      "_model_name": "HBoxModel",
      "_view_count": null,
      "_view_module": "@jupyter-widgets/controls",
      "_view_module_version": "1.5.0",
      "_view_name": "HBoxView",
      "box_style": "",
      "children": [
       "IPY_MODEL_0c7737c30ac64003a3c509a20b34299f",
       "IPY_MODEL_038d1f851ecb4a7aa43a34d16fb779d9",
       "IPY_MODEL_3762f93299f64118ae8ff6cf927d53fb"
      ],
      "layout": "IPY_MODEL_a648e57c791443c6a19fbf12d85d1039"
     }
    },
    "a648e57c791443c6a19fbf12d85d1039": {
     "model_module": "@jupyter-widgets/base",
     "model_module_version": "1.2.0",
     "model_name": "LayoutModel",
     "state": {
      "_model_module": "@jupyter-widgets/base",
      "_model_module_version": "1.2.0",
      "_model_name": "LayoutModel",
      "_view_count": null,
      "_view_module": "@jupyter-widgets/base",
      "_view_module_version": "1.2.0",
      "_view_name": "LayoutView",
      "align_content": null,
      "align_items": null,
      "align_self": null,
      "border": null,
      "bottom": null,
      "display": null,
      "flex": null,
      "flex_flow": null,
      "grid_area": null,
      "grid_auto_columns": null,
      "grid_auto_flow": null,
      "grid_auto_rows": null,
      "grid_column": null,
      "grid_gap": null,
      "grid_row": null,
      "grid_template_areas": null,
      "grid_template_columns": null,
      "grid_template_rows": null,
      "height": null,
      "justify_content": null,
      "justify_items": null,
      "left": null,
      "margin": null,
      "max_height": null,
      "max_width": null,
      "min_height": null,
      "min_width": null,
      "object_fit": null,
      "object_position": null,
      "order": null,
      "overflow": null,
      "overflow_x": null,
      "overflow_y": null,
      "padding": null,
      "right": null,
      "top": null,
      "visibility": null,
      "width": null
     }
    },
    "cb88cc49c1624f038f1a2bf1fe40e152": {
     "model_module": "@jupyter-widgets/controls",
     "model_module_version": "1.5.0",
     "model_name": "DescriptionStyleModel",
     "state": {
      "_model_module": "@jupyter-widgets/controls",
      "_model_module_version": "1.5.0",
      "_model_name": "DescriptionStyleModel",
      "_view_count": null,
      "_view_module": "@jupyter-widgets/base",
      "_view_module_version": "1.2.0",
      "_view_name": "StyleView",
      "description_width": ""
     }
    }
   }
  }
 },
 "nbformat": 4,
 "nbformat_minor": 0
}
