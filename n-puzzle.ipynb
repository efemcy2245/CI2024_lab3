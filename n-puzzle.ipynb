{
 "cells": [
  {
   "cell_type": "code",
   "execution_count": 311,
   "metadata": {
    "id": "ry_y1CNYjxvt"
   },
   "outputs": [],
   "source": [
    "import functools\n",
    "from collections import namedtuple\n",
    "from random import choice\n",
    "from tqdm.auto import tqdm\n",
    "import numpy as np\n",
    "from queue import PriorityQueue\n",
    "from numpy import array_str\n",
    "import heapq\n",
    "import logging\n",
    "\n",
    "action = namedtuple('Action', ['pos1', 'pos2'])\n",
    "\n",
    "container_experiment = {}\n",
    "\n",
    "for n in range(2,5):\n",
    "    container_experiment[n] = []"
   ]
  },
  {
   "cell_type": "code",
   "execution_count": 312,
   "metadata": {
    "id": "r2Lcpky3j7W8"
   },
   "outputs": [],
   "source": [
    "def do_action(state: np.ndarray, action: 'Action') -> np.ndarray:\n",
    "    new_state = state.copy()\n",
    "    new_state[action.pos1], new_state[action.pos2] = new_state[action.pos2], new_state[action.pos1]\n",
    "    return new_state\n",
    "\n",
    "def goal_function( state ,goal ):\n",
    "    label = np.array_equal(state, goal)\n",
    "    if(label):\n",
    "        return True\n",
    "    else:\n",
    "        return False\n",
    "    \n",
    "def available_actions(state: np.ndarray) -> list['Action']:\n",
    "    global PUZZLE_DIM\n",
    "    x, y = [int(_[0]) for _ in np.where(state == 0)]\n",
    "    actions = list()\n",
    "    if x > 0:\n",
    "        actions.append(action((x, y), (x - 1, y)))\n",
    "    if x < PUZZLE_DIM - 1:\n",
    "        actions.append(action((x, y), (x + 1, y)))\n",
    "    if y > 0:\n",
    "        actions.append(action((x, y), (x, y - 1)))\n",
    "    if y < PUZZLE_DIM - 1:\n",
    "        actions.append(action((x, y), (x, y + 1)))\n",
    "    return actions\n"
   ]
  },
  {
   "cell_type": "code",
   "execution_count": 313,
   "metadata": {},
   "outputs": [],
   "source": [
    "def initial_random_state( n ):\n",
    "    global value_to_coordinates\n",
    "    PUZZLE_DIM = n\n",
    "    action = namedtuple('Action', ['pos1', 'pos2'])\n",
    "    RANDOMIZE_STEPS = 100_000\n",
    "    state = np.array([i for i in range(1, PUZZLE_DIM**2)] + [0]).reshape((PUZZLE_DIM, PUZZLE_DIM))\n",
    "    goal = state\n",
    "    for r in tqdm(range(RANDOMIZE_STEPS), desc='Randomizing'):\n",
    "        state = do_action(state, choice(available_actions(state)))\n",
    "    \n",
    "     \n",
    "    for i in range(len(goal)):\n",
    "        for j in range(len(goal)):\n",
    "            value = goal[i][j]\n",
    "            value_to_coordinates[value]= (i , j)\n",
    "\n",
    "    return state , goal\n",
    "\n",
    "\n",
    "def manhattan_distance(point1, point2):\n",
    "    return sum(abs(a - b) for a, b in zip(point1, point2))"
   ]
  },
  {
   "cell_type": "code",
   "execution_count": 314,
   "metadata": {},
   "outputs": [],
   "source": [
    "def manhattan_distance_for_matrix(state):\n",
    "    global goal , value_to_coordinates, PUZZLE_DIM\n",
    "\n",
    "    matrix_distance=  np.zeros((PUZZLE_DIM, PUZZLE_DIM))\n",
    "    for i in range(PUZZLE_DIM):\n",
    "        for j in range(PUZZLE_DIM):\n",
    "            coordinate= (i,j)\n",
    "            value = state[i,j]\n",
    "            coordinate_goal= value_to_coordinates[value]\n",
    "            manathan_dist = manhattan_distance(coordinate,coordinate_goal)\n",
    "            matrix_distance[i,j]= int(manathan_dist)\n",
    "    return matrix_distance\n"
   ]
  },
  {
   "cell_type": "code",
   "execution_count": 315,
   "metadata": {},
   "outputs": [],
   "source": [
    "class CustomPriorityQueue:\n",
    "    \n",
    "    def __init__(self, input_function = None):\n",
    "        self.function = input_function\n",
    "        self.pq = PriorityQueue()  # The actual PriorityQueue\n",
    "        ##### USE THE FUNCTION  function\n",
    "        self.items_set = set()  # Set to track items in the queue\n",
    "        self.count = 0  # Variable to keep track of the number of elements\n",
    "    \n",
    "    def put(self, item, priority):\n",
    "        if( self.function is None):\n",
    "            self.pq.put((item, priority))  # Add to the PriorityQueue\n",
    "        else:       \n",
    "            value = self.function(item)\n",
    "            self.pq.put((item, priority+value))\n",
    "        self.items_set.add(priority)  # Track item in the set\n",
    "        self.count += 1  # Increment the count when an item is added\n",
    "\n",
    "    def get(self):\n",
    "        priority, item = self.pq.get()  # Get from the PriorityQueue\n",
    "        self.items_set.remove(item)  # Remove from the set\n",
    "        self.count -= 1  # Increment the count when an item is added\n",
    "        return item, priority\n",
    "    \n",
    "    def contains(self, item):\n",
    "        return item in self.items_set  # Check if the item exists in the set\n",
    "    \n",
    "    def empty(self):\n",
    "        return self.pq.empty()  # Check if the PriorityQueue is empty\n",
    "    \n",
    "    def size(self):\n",
    "        return self.count  # Return the number of elements in the queue"
   ]
  },
  {
   "cell_type": "markdown",
   "metadata": {},
   "source": [
    "#### IMPLEMENTATED BUT NOT WORKING"
   ]
  },
  {
   "cell_type": "code",
   "execution_count": 316,
   "metadata": {},
   "outputs": [],
   "source": [
    "\"\"\"    IF I WANT TO RUN fix the function h error on differences = tuple(a - b for a, b in zip(indexes, goal_indexes))\n",
    "       - Write here what is the scope of A* - which value if important to define the cost\n",
    "value_to_coordinates = {}\n",
    "stucked_state = dict()\n",
    "PUZZLE_DIM = 2\n",
    "state , goal = initial_random_state(PUZZLE_DIM) # #### modify based the size\n",
    "name , length_path , length_state = search( state  ,priority_mode= h, name=\"A* h function\")\n",
    "print(PUZZLE_DIM ,name , length_path , length_state)\n",
    "container_experiment[PUZZLE_DIM].append([name, length_path, length_state ] )\n",
    "\"\"\"\n",
    "def h(state):\n",
    "    global goal , PUZZLE_DIM  , value_to_coordinates , stucked_state \n",
    "    #### backtrack - previous cost and state are has been seen \n",
    "    #### condition using lexicographic tupla ( matrix postion (true- false ) , distance  ), if i don't have solution \n",
    "    #### penalizzare se stato gia visto\n",
    "    #print(goal)\n",
    "    #print(state)\n",
    "    x_state, y_state = [int(_[0]) for _ in np.where(state == 0)]   #### where is point zero - ( x , y ) \n",
    "\n",
    "    boolean_matrix = (state == goal)\n",
    "    total_sum_boolean = np.sum(boolean_matrix)\n",
    "    boolean_matrix[x_state, y_state] = True\n",
    "    \n",
    "    ### manathan distance no on the matrix but on the elements\n",
    "    distance_matrix = np.abs(state - goal)\n",
    "    distance_matrix [x_state, y_state] = 0\n",
    "    total_sum = np.sum(distance_matrix) #### \n",
    "    #print(distance_matrix)\n",
    "    #print(boolean_matrix)\n",
    "\n",
    "    lista_cost = available_actions(distance_matrix)   #### extract the  position\n",
    "    list_action = [ x[1]  for x in lista_cost]    \n",
    "    container = [ ( distance_matrix[position] ,position   ) for position in list_action if boolean_matrix[position]==False  ] ### available action depending the distance matrix\n",
    "    #print(container) \n",
    "\n",
    "\n",
    "    #print(\"for loop\")\n",
    "    total_sum_tuple=0\n",
    "    ### total_sum_tuple compute the quality of our movement\n",
    "    for el in container:\n",
    "        value = el[0].item()\n",
    "        indexes = el[1]  \n",
    "        #print(value , indexes)\n",
    "        #print(value_to_coordinates)\n",
    "        goal_indexes = value_to_coordinates[value][0]\n",
    "        #print(goal_indexes)\n",
    "        print(indexes)\n",
    "        print(goal_indexes)\n",
    "        differences = tuple(a - b for a, b in zip(indexes, goal_indexes))\n",
    "        total_sum_tuple = sum(abs(x) for x in differences)\n",
    "        #print(total_sum_tuple)\n",
    "\n",
    "    final_scalar = total_sum_tuple +  ( boolean_matrix.size  - total_sum_boolean) + ( np.sum(distance_matrix) -np.sum(goal)  ) ### the last difference works in anyway\n",
    "    try:\n",
    "        value = stucked_state[array_str(state)]\n",
    "        if(value==final_scalar):\n",
    "            final_scalar= final_scalar**2\n",
    "            stucked_state[array_str(state)] = final_scalar\n",
    "    except KeyError as k:\n",
    "        stucked_state[array_str(state) ] = final_scalar\n",
    "    #### total sum tuple =0, we are stucked\n",
    "\n",
    "    return final_scalar  ### the last difference works in anyway"
   ]
  },
  {
   "cell_type": "code",
   "execution_count": 317,
   "metadata": {},
   "outputs": [],
   "source": [
    "def g(state):\n",
    "    global goal , PUZZLE_DIM  , value_to_coordinates , stucked_state \n",
    "    #### backtrack - previous cost and state are has been seen \n",
    "    #### condition using lexicographic tupla ( matrix postion (true- false ) , distance  ), if i don't have solution \n",
    "    #### penalizzare se stato gia visto\n",
    "    x_state, y_state = [int(_[0]) for _ in np.where(state == 0)]   #### where is point zero - ( x , y ) \n",
    "\n",
    "    boolean_matrix = (state == goal)\n",
    "    total_sum_boolean = np.sum(boolean_matrix) ### maybe is better not use it\n",
    "    boolean_matrix[x_state, y_state] = True\n",
    "    #print(boolean_matrix)\n",
    "\n",
    "\n",
    "    ### manathan distance no on the matrix but on the elements\n",
    "    distance_matrix = np.abs(state - goal)\n",
    "    distance_matrix [x_state, y_state] = 0\n",
    "    total_sum = np.sum(distance_matrix) #### overall distance of points, use only this\n",
    "    #print(distance_matrix)\n",
    "\n",
    "    try:\n",
    "        value = stucked_state[array_str(state)]\n",
    "        if(value== total_sum):\n",
    "            #penalize more\n",
    "            total_sum=total_sum**2\n",
    "            #final_scalar= final_scalar**2\n",
    "            #stucked_state[array_str(state)] = final_scalar\n",
    "    except KeyError as k:\n",
    "        stucked_state[array_str(state) ] = total_sum\n",
    "    #### total sum tuple =0, we are stucked\n",
    "\n",
    "    return total_sum  ### the last difference works in anyway"
   ]
  },
  {
   "cell_type": "code",
   "execution_count": 318,
   "metadata": {},
   "outputs": [],
   "source": [
    "def k(state):\n",
    "    global goal , PUZZLE_DIM  , value_to_coordinates , stucked_state \n",
    "    #### backtrack - previous cost and state are has been seen \n",
    "    #### condition using lexicographic tupla ( matrix postion (true- false ) , distance  ), if i don't have solution \n",
    "    #### penalizzare se stato gia visto\n",
    "    x_state, y_state = [int(_[0]) for _ in np.where(state == 0)]   #### where is point zero - ( x , y ) \n",
    "\n",
    "    boolean_matrix = (state == goal)\n",
    "    total_sum_boolean = np.sum(boolean_matrix) ### maybe is better not use it\n",
    "    boolean_matrix[x_state, y_state] = True\n",
    "    #print(boolean_matrix)\n",
    "\n",
    "    manathan_matrix = manhattan_distance_for_matrix(state)\n",
    "    total_manathan = np.sum(manathan_matrix)\n",
    "\n",
    "    try:\n",
    "        value = stucked_state[array_str(state)]\n",
    "        if(value== total_manathan.item()):\n",
    "            #penalize more\n",
    "            total_manathan=total_manathan.item()**2\n",
    "            #final_scalar= final_scalar**2\n",
    "            #stucked_state[array_str(state)] = final_scalar\n",
    "    except KeyError as k:\n",
    "        stucked_state[array_str(state) ] = total_manathan.item()\n",
    "    #### total sum tuple =0, we are stucked\n",
    "\n",
    "    return total_manathan  ### the last difference works in anyway"
   ]
  },
  {
   "cell_type": "code",
   "execution_count": 319,
   "metadata": {},
   "outputs": [],
   "source": [
    "#### Search algorithm\n",
    "def search( initial_state , priority_mode= None , name=\"\"):\n",
    "    global goal, stucked_state , PUZZLE_DIM\n",
    "    state =initial_state\n",
    "    state_cost = dict() \n",
    "    parent_state = dict()\n",
    "    global_state = dict() \n",
    "    state_cost[array_str(state)] = 0\n",
    "    parent_state[array_str(state)] = None\n",
    "    global_state[array_str(state)] = state\n",
    "    frontier = CustomPriorityQueue()\n",
    "    \n",
    "    while state is not None and not goal_function(state, goal):\n",
    "        for a in available_actions(state):\n",
    "            new_state = do_action(state,a)\n",
    "            cost = 1  # cost_function(a)   ### given an action, give you the cost\n",
    "            if(array_str(new_state) not in state_cost and not frontier.contains(array_str(new_state)) ):\n",
    "                if(priority_mode is not None):\n",
    "                    state_cost[array_str(new_state)]= state_cost[array_str(state)]  + cost + priority_mode(state)\n",
    "                else:\n",
    "                    state_cost[array_str(new_state)]= state_cost[array_str(state)]  + cost \n",
    "                new_cost = state_cost[array_str(new_state)]\n",
    "                parent_state[array_str(new_state)] = state\n",
    "                global_state[array_str(new_state)] = new_state\n",
    "                frontier.put(  new_cost  , array_str(new_state)   )  ### priority item\n",
    "            elif( frontier.contains(array_str(new_state)) and state_cost[array_str(new_state)] > state_cost[array_str(state)] + cost):  #array_str(new_state) in frontier\n",
    "                ### salvare qui se faccio contenitore con stato stuckuato , aggiungere anche cost + costo di h\n",
    "                parent_state[array_str(new_state)] = state\n",
    "                state_cost[array_str(new_state)] = state_cost[array_str(state)] + cost\n",
    "                global_state[array_str(new_state)] = new_state\n",
    "        \n",
    "        if not frontier.empty():\n",
    "                tuple = frontier.get()\n",
    "                arr_state = tuple[0]\n",
    "                state = global_state[arr_state]\n",
    "        else:\n",
    "            state = None\n",
    "    path = list()\n",
    "    s = state\n",
    "    flag =True\n",
    "    while flag:         #### works only with n>2\n",
    "        # Check if array_str(s) is not None\n",
    "        if array_str(s) is not None:\n",
    "            path.append(parent_state[array_str(s)])\n",
    "            s = parent_state[array_str(s)]\n",
    "            if(s is None):\n",
    "                flag= False\n",
    "\n",
    "    print(f\"{name} Found a solution in {len(path):,} steps; visited {len(state_cost):,} states\")\n",
    "    return  name, len(path) , len(state_cost)\n"
   ]
  },
  {
   "cell_type": "markdown",
   "metadata": {},
   "source": [
    "## Breadth first"
   ]
  },
  {
   "cell_type": "code",
   "execution_count": 320,
   "metadata": {},
   "outputs": [
    {
     "name": "stderr",
     "output_type": "stream",
     "text": [
      "Randomizing: 100%|██████████| 100000/100000 [00:00<00:00, 161291.41it/s]"
     ]
    },
    {
     "name": "stdout",
     "output_type": "stream",
     "text": [
      "Breadth First Found a solution in 3 steps; visited 5 states\n",
      "2 Breadth First 3 5\n"
     ]
    },
    {
     "name": "stderr",
     "output_type": "stream",
     "text": [
      "\n"
     ]
    }
   ],
   "source": [
    "value_to_coordinates = {}\n",
    "stucked_state = dict()\n",
    "PUZZLE_DIM = 2\n",
    "state , goal = initial_random_state(PUZZLE_DIM) # #### modify based the size\n",
    "name , length_path , length_state = search( state  ,priority_mode= None, name=\"Breadth First\")\n",
    "print(PUZZLE_DIM ,name , length_path , length_state)\n",
    "container_experiment[PUZZLE_DIM].append([name, length_path, length_state ] )\n"
   ]
  },
  {
   "cell_type": "code",
   "execution_count": 321,
   "metadata": {},
   "outputs": [
    {
     "name": "stderr",
     "output_type": "stream",
     "text": [
      "Randomizing: 100%|██████████| 100000/100000 [00:00<00:00, 155919.76it/s]\n"
     ]
    },
    {
     "name": "stdout",
     "output_type": "stream",
     "text": [
      "Breadth First Found a solution in 27 steps; visited 172,110 states\n",
      "3 Breadth First 27 172110\n"
     ]
    }
   ],
   "source": [
    "value_to_coordinates = {}\n",
    "stucked_state = dict()\n",
    "PUZZLE_DIM = 3\n",
    "state , goal = initial_random_state(PUZZLE_DIM) # #### modify based the size\n",
    "name , length_path , length_state = search( state  ,priority_mode= None, name=\"Breadth First\")\n",
    "print(PUZZLE_DIM ,name , length_path , length_state)\n",
    "container_experiment[PUZZLE_DIM].append([name, length_path, length_state ] )\n"
   ]
  },
  {
   "cell_type": "code",
   "execution_count": null,
   "metadata": {},
   "outputs": [],
   "source": [
    "value_to_coordinates = {}\n",
    "stucked_state = dict()\n",
    "PUZZLE_DIM = 4\n",
    "state , goal = initial_random_state(PUZZLE_DIM) # #### modify based the size\n",
    "name , length_path , length_state = search( state  ,priority_mode= None, name=\"Breadth First\")\n",
    "container_experiment[PUZZLE_DIM].append([name, length_path, length_state ] )"
   ]
  },
  {
   "cell_type": "markdown",
   "metadata": {},
   "source": [
    "## A* - using function g"
   ]
  },
  {
   "cell_type": "code",
   "execution_count": 322,
   "metadata": {},
   "outputs": [
    {
     "name": "stderr",
     "output_type": "stream",
     "text": [
      "Randomizing: 100%|██████████| 100000/100000 [00:00<00:00, 159875.40it/s]"
     ]
    },
    {
     "name": "stdout",
     "output_type": "stream",
     "text": [
      "[[3 1]\n",
      " [2 0]]\n",
      "[[1 2]\n",
      " [3 0]]\n",
      "A* g function Found a solution in 5 steps; visited 12 states\n"
     ]
    },
    {
     "name": "stderr",
     "output_type": "stream",
     "text": [
      "\n"
     ]
    }
   ],
   "source": [
    "value_to_coordinates = {}\n",
    "stucked_state = dict()\n",
    "PUZZLE_DIM = 2\n",
    "state , goal = initial_random_state(PUZZLE_DIM) # #### modify based the size\n",
    "\n",
    "print(state)\n",
    "print(goal)\n",
    "function_A = h\n",
    "name , length_path , length_state = search( state  ,priority_mode= g, name=\"A* g function\")\n",
    "container_experiment[PUZZLE_DIM].append([name, length_path, length_state ] )"
   ]
  },
  {
   "cell_type": "code",
   "execution_count": 323,
   "metadata": {},
   "outputs": [
    {
     "name": "stderr",
     "output_type": "stream",
     "text": [
      "Randomizing: 100%|██████████| 100000/100000 [00:00<00:00, 163249.81it/s]\n"
     ]
    },
    {
     "name": "stdout",
     "output_type": "stream",
     "text": [
      "[[1 5 4]\n",
      " [3 0 2]\n",
      " [8 6 7]]\n",
      "[[1 2 3]\n",
      " [4 5 6]\n",
      " [7 8 0]]\n",
      "A* g function Found a solution in 41 steps; visited 85,738 states\n"
     ]
    }
   ],
   "source": [
    "alue_to_coordinates = {}\n",
    "stucked_state = dict()\n",
    "PUZZLE_DIM = 3\n",
    "state , goal = initial_random_state(PUZZLE_DIM) # #### modify based the size\n",
    "\n",
    "print(state)\n",
    "print(goal)\n",
    "function_A = h\n",
    "name , length_path , length_state = search( state  ,priority_mode= g, name=\"A* g function\")\n",
    "container_experiment[PUZZLE_DIM].append([name, length_path, length_state ] )"
   ]
  },
  {
   "cell_type": "code",
   "execution_count": null,
   "metadata": {},
   "outputs": [],
   "source": [
    "alue_to_coordinates = {}\n",
    "stucked_state = dict()\n",
    "PUZZLE_DIM = 4\n",
    "state , goal = initial_random_state(PUZZLE_DIM) # #### modify based the size\n",
    "\n",
    "print(state)\n",
    "print(goal)\n",
    "function_A = h\n",
    "name , length_path , length_state = search( state  ,priority_mode= g, name=\"A* g function\")\n",
    "container_experiment[PUZZLE_DIM].append([name, length_path, length_state ] )"
   ]
  },
  {
   "cell_type": "markdown",
   "metadata": {},
   "source": [
    "## A* - using k function"
   ]
  },
  {
   "cell_type": "code",
   "execution_count": 324,
   "metadata": {},
   "outputs": [
    {
     "name": "stderr",
     "output_type": "stream",
     "text": [
      "Randomizing: 100%|██████████| 100000/100000 [00:00<00:00, 156132.48it/s]"
     ]
    },
    {
     "name": "stdout",
     "output_type": "stream",
     "text": [
      "A* k function Found a solution in 1 steps; visited 1 states\n"
     ]
    },
    {
     "name": "stderr",
     "output_type": "stream",
     "text": [
      "\n"
     ]
    }
   ],
   "source": [
    "value_to_coordinates = {}\n",
    "stucked_state = dict()\n",
    "PUZZLE_DIM = 2\n",
    "state , goal = initial_random_state(PUZZLE_DIM) # #### modify based the size\n",
    "name , length_path , length_state = search( state  ,priority_mode= k, name=\"A* k function\")\n",
    "container_experiment[PUZZLE_DIM].append([name, length_path, length_state ] )"
   ]
  },
  {
   "cell_type": "code",
   "execution_count": 325,
   "metadata": {},
   "outputs": [
    {
     "name": "stderr",
     "output_type": "stream",
     "text": [
      "Randomizing: 100%|██████████| 100000/100000 [00:00<00:00, 151623.25it/s]\n"
     ]
    },
    {
     "name": "stdout",
     "output_type": "stream",
     "text": [
      "A* k function Found a solution in 31 steps; visited 3,704 states\n"
     ]
    }
   ],
   "source": [
    "value_to_coordinates = {}\n",
    "stucked_state = dict()\n",
    "PUZZLE_DIM = 3\n",
    "state , goal = initial_random_state(PUZZLE_DIM) # #### modify based the size\n",
    "name , length_path , length_state = search( state  ,priority_mode= k, name=\"A* k function\")\n",
    "container_experiment[PUZZLE_DIM].append([name, length_path, length_state ] )"
   ]
  },
  {
   "cell_type": "code",
   "execution_count": null,
   "metadata": {},
   "outputs": [],
   "source": [
    "value_to_coordinates = {}\n",
    "stucked_state = dict()\n",
    "PUZZLE_DIM = 4\n",
    "state , goal = initial_random_state(PUZZLE_DIM) # #### modify based the size\n",
    "name , length_path , length_state = search( state  ,priority_mode= k, name=\"A* k function\")\n",
    "container_experiment[PUZZLE_DIM].append([name, length_path, length_state ] )"
   ]
  },
  {
   "cell_type": "markdown",
   "metadata": {},
   "source": [
    "### Graphs"
   ]
  },
  {
   "cell_type": "code",
   "execution_count": 340,
   "metadata": {},
   "outputs": [
    {
     "name": "stdout",
     "output_type": "stream",
     "text": [
      "(2, [['Breadth First', 3, 5], ['A* g function', 5, 12], ['A* k function', 1, 1]])\n",
      "(3, [['Breadth First', 27, 172110], ['A* g function', 41, 85738], ['A* k function', 31, 3704]])\n",
      "(4, [])\n"
     ]
    }
   ],
   "source": [
    "for value in container_experiment.items():\n",
    "    print(value)"
   ]
  },
  {
   "cell_type": "code",
   "execution_count": 352,
   "metadata": {},
   "outputs": [
    {
     "data": {
      "image/png": "[encoded data removed]",
      "text/plain": [
       "<Figure size 800x600 with 1 Axes>"
      ]
     },
     "metadata": {},
     "output_type": "display_data"
    }
   ],
   "source": [
    "import matplotlib.pyplot as plt\n",
    "methods = container_experiment[2]\n",
    "\n",
    "names = [item[0] for item in methods]  # Method names\n",
    "x_values = [item[1] for item in methods]  # X-axis values\n",
    "y_values = [item[2] for item in methods]  # Y-axis values\n",
    "\n",
    "# Create scatter plot\n",
    "plt.figure(figsize=(8, 6))\n",
    "\n",
    "# Plot each point individually with a label that includes the method name and coordinates\n",
    "for x, y, name in zip(x_values, y_values, names):\n",
    "    label = f\"{name} ({x}, {y})\"\n",
    "    plt.scatter(x, y, label=label)  # Use the custom label for the legend\n",
    "\n",
    "# Annotate each point with its method name\n",
    "for i, name in enumerate(names):\n",
    "    plt.text(x_values[i] + 0.1, y_values[i] + 0.1, name, fontsize=9)\n",
    "\n",
    "# Add labels and title\n",
    "plt.xlabel('Steps')\n",
    "plt.ylabel('Number States')\n",
    "plt.title('simulation with N dim ')\n",
    "\n",
    "# Add legend\n",
    "plt.legend(title='Methods - #steps -number state', loc='best')  # Add a legend with a title\n",
    "\n",
    "# Show grid and the plot\n",
    "plt.grid(True)\n",
    "plt.show()"
   ]
  },
  {
   "cell_type": "code",
   "execution_count": null,
   "metadata": {},
   "outputs": [],
   "source": []
  },
  {
   "cell_type": "markdown",
   "metadata": {},
   "source": [
    "More function - garbage"
   ]
  },
  {
   "cell_type": "code",
   "execution_count": null,
   "metadata": {},
   "outputs": [],
   "source": [
    "\"\"\"\n",
    "PUZZLE_DIM = 2\n",
    "action = namedtuple('Action', ['pos1', 'pos2'])\n",
    "RANDOMIZE_STEPS = 100_000\n",
    "state = np.array([i for i in range(1, PUZZLE_DIM**2)] + [0]).reshape((PUZZLE_DIM, PUZZLE_DIM))\n",
    "goal = state\n",
    "print(state)\n",
    "for r in tqdm(range(RANDOMIZE_STEPS), desc='Randomizing'):\n",
    "    state = do_action(state, choice(available_actions(state)))\n",
    "state\n",
    "\n",
    "\n",
    "PUZZLE_DIM = 3  \n",
    "action = namedtuple('Action', ['pos1', 'pos2'])\n",
    "RANDOMIZE_STEPS = 100_000\n",
    "state = np.array([i for i in range(1, PUZZLE_DIM**2)] + [0]).reshape((PUZZLE_DIM, PUZZLE_DIM))\n",
    "goal = state\n",
    "print(state)\n",
    "for r in tqdm(range(RANDOMIZE_STEPS), desc='Randomizing'):\n",
    "    state = do_action(state, choice(available_actions(state)))\n",
    "\n",
    "\"\"\""
   ]
  }
 ],
 "metadata": {
  "colab": {
   "authorship_tag": "ABX9TyMyx8SZyxteEYwPpU+yRFJe",
   "provenance": []
  },
  "kernelspec": {
   "display_name": ".venv",
   "language": "python",
   "name": "python3"
  },
  "language_info": {
   "codemirror_mode": {
    "name": "ipython",
    "version": 3
   },
   "file_extension": ".py",
   "mimetype": "text/x-python",
   "name": "python",
   "nbconvert_exporter": "python",
   "pygments_lexer": "ipython3",
   "version": "3.10.11"
  },
  "widgets": {
   "application/vnd.jupyter.widget-state+json": {
    "038d1f851ecb4a7aa43a34d16fb779d9": {
     "model_module": "@jupyter-widgets/controls",
     "model_module_version": "1.5.0",
     "model_name": "FloatProgressModel",
     "state": {
      "_dom_classes": [],
      "_model_module": "@jupyter-widgets/controls",
      "_model_module_version": "1.5.0",
      "_model_name": "FloatProgressModel",
      "_view_count": null,
      "_view_module": "@jupyter-widgets/controls",
      "_view_module_version": "1.5.0",
      "_view_name": "ProgressView",
      "bar_style": "success",
      "description": "",
      "description_tooltip": null,
      "layout": "IPY_MODEL_6f8ed2feda2248e4a3d1a43541ea4929",
      "max": 100000,
      "min": 0,
      "orientation": "horizontal",
      "style": "IPY_MODEL_5a6e56ac233544f69d7d781d0b17944e",
      "value": 100000
     }
    },
    "0c7737c30ac64003a3c509a20b34299f": {
     "model_module": "@jupyter-widgets/controls",
     "model_module_version": "1.5.0",
     "model_name": "HTMLModel",
     "state": {
      "_dom_classes": [],
      "_model_module": "@jupyter-widgets/controls",
      "_model_module_version": "1.5.0",
      "_model_name": "HTMLModel",
      "_view_count": null,
      "_view_module": "@jupyter-widgets/controls",
      "_view_module_version": "1.5.0",
      "_view_name": "HTMLView",
      "description": "",
      "description_tooltip": null,
      "layout": "IPY_MODEL_23f170bca529442d9be637d1b42ab36e",
      "placeholder": "​",
      "style": "IPY_MODEL_35f029ebdc204a75be5aa884875a8b83",
      "value": "Randomizing: 100%"
     }
    },
    "23f170bca529442d9be637d1b42ab36e": {
     "model_module": "@jupyter-widgets/base",
     "model_module_version": "1.2.0",
     "model_name": "LayoutModel",
     "state": {
      "_model_module": "@jupyter-widgets/base",
      "_model_module_version": "1.2.0",
      "_model_name": "LayoutModel",
      "_view_count": null,
      "_view_module": "@jupyter-widgets/base",
      "_view_module_version": "1.2.0",
      "_view_name": "LayoutView",
      "align_content": null,
      "align_items": null,
      "align_self": null,
      "border": null,
      "bottom": null,
      "display": null,
      "flex": null,
      "flex_flow": null,
      "grid_area": null,
      "grid_auto_columns": null,
      "grid_auto_flow": null,
      "grid_auto_rows": null,
      "grid_column": null,
      "grid_gap": null,
      "grid_row": null,
      "grid_template_areas": null,
      "grid_template_columns": null,
      "grid_template_rows": null,
      "height": null,
      "justify_content": null,
      "justify_items": null,
      "left": null,
      "margin": null,
      "max_height": null,
      "max_width": null,
      "min_height": null,
      "min_width": null,
      "object_fit": null,
      "object_position": null,
      "order": null,
      "overflow": null,
      "overflow_x": null,
      "overflow_y": null,
      "padding": null,
      "right": null,
      "top": null,
      "visibility": null,
      "width": null
     }
    },
    "2a9ae84c8e77425abde82f4b80b17938": {
     "model_module": "@jupyter-widgets/base",
     "model_module_version": "1.2.0",
     "model_name": "LayoutModel",
     "state": {
      "_model_module": "@jupyter-widgets/base",
      "_model_module_version": "1.2.0",
      "_model_name": "LayoutModel",
      "_view_count": null,
      "_view_module": "@jupyter-widgets/base",
      "_view_module_version": "1.2.0",
      "_view_name": "LayoutView",
      "align_content": null,
      "align_items": null,
      "align_self": null,
      "border": null,
      "bottom": null,
      "display": null,
      "flex": null,
      "flex_flow": null,
      "grid_area": null,
      "grid_auto_columns": null,
      "grid_auto_flow": null,
      "grid_auto_rows": null,
      "grid_column": null,
      "grid_gap": null,
      "grid_row": null,
      "grid_template_areas": null,
      "grid_template_columns": null,
      "grid_template_rows": null,
      "height": null,
      "justify_content": null,
      "justify_items": null,
      "left": null,
      "margin": null,
      "max_height": null,
      "max_width": null,
      "min_height": null,
      "min_width": null,
      "object_fit": null,
      "object_position": null,
      "order": null,
      "overflow": null,
      "overflow_x": null,
      "overflow_y": null,
      "padding": null,
      "right": null,
      "top": null,
      "visibility": null,
      "width": null
     }
    },
    "35f029ebdc204a75be5aa884875a8b83": {
     "model_module": "@jupyter-widgets/controls",
     "model_module_version": "1.5.0",
     "model_name": "DescriptionStyleModel",
     "state": {
      "_model_module": "@jupyter-widgets/controls",
      "_model_module_version": "1.5.0",
      "_model_name": "DescriptionStyleModel",
      "_view_count": null,
      "_view_module": "@jupyter-widgets/base",
      "_view_module_version": "1.2.0",
      "_view_name": "StyleView",
      "description_width": ""
     }
    },
    "3762f93299f64118ae8ff6cf927d53fb": {
     "model_module": "@jupyter-widgets/controls",
     "model_module_version": "1.5.0",
     "model_name": "HTMLModel",
     "state": {
      "_dom_classes": [],
      "_model_module": "@jupyter-widgets/controls",
      "_model_module_version": "1.5.0",
      "_model_name": "HTMLModel",
      "_view_count": null,
      "_view_module": "@jupyter-widgets/controls",
      "_view_module_version": "1.5.0",
      "_view_name": "HTMLView",
      "description": "",
      "description_tooltip": null,
      "layout": "IPY_MODEL_2a9ae84c8e77425abde82f4b80b17938",
      "placeholder": "​",
      "style": "IPY_MODEL_cb88cc49c1624f038f1a2bf1fe40e152",
      "value": " 100000/100000 [00:01&lt;00:00, 57205.11it/s]"
     }
    },
    "5a6e56ac233544f69d7d781d0b17944e": {
     "model_module": "@jupyter-widgets/controls",
     "model_module_version": "1.5.0",
     "model_name": "ProgressStyleModel",
     "state": {
      "_model_module": "@jupyter-widgets/controls",
      "_model_module_version": "1.5.0",
      "_model_name": "ProgressStyleModel",
      "_view_count": null,
      "_view_module": "@jupyter-widgets/base",
      "_view_module_version": "1.2.0",
      "_view_name": "StyleView",
      "bar_color": null,
      "description_width": ""
     }
    },
    "6f8ed2feda2248e4a3d1a43541ea4929": {
     "model_module": "@jupyter-widgets/base",
     "model_module_version": "1.2.0",
     "model_name": "LayoutModel",
     "state": {
      "_model_module": "@jupyter-widgets/base",
      "_model_module_version": "1.2.0",
      "_model_name": "LayoutModel",
      "_view_count": null,
      "_view_module": "@jupyter-widgets/base",
      "_view_module_version": "1.2.0",
      "_view_name": "LayoutView",
      "align_content": null,
      "align_items": null,
      "align_self": null,
      "border": null,
      "bottom": null,
      "display": null,
      "flex": null,
      "flex_flow": null,
      "grid_area": null,
      "grid_auto_columns": null,
      "grid_auto_flow": null,
      "grid_auto_rows": null,
      "grid_column": null,
      "grid_gap": null,
      "grid_row": null,
      "grid_template_areas": null,
      "grid_template_columns": null,
      "grid_template_rows": null,
      "height": null,
      "justify_content": null,
      "justify_items": null,
      "left": null,
      "margin": null,
      "max_height": null,
      "max_width": null,
      "min_height": null,
      "min_width": null,
      "object_fit": null,
      "object_position": null,
      "order": null,
      "overflow": null,
      "overflow_x": null,
      "overflow_y": null,
      "padding": null,
      "right": null,
      "top": null,
      "visibility": null,
      "width": null
     }
    },
    "921c065425624900afbca75a2b9916ed": {
     "model_module": "@jupyter-widgets/controls",
     "model_module_version": "1.5.0",
     "model_name": "HBoxModel",
     "state": {
      "_dom_classes": [],
      "_model_module": "@jupyter-widgets/controls",
      "_model_module_version": "1.5.0",
      "_model_name": "HBoxModel",
      "_view_count": null,
      "_view_module": "@jupyter-widgets/controls",
      "_view_module_version": "1.5.0",
      "_view_name": "HBoxView",
      "box_style": "",
      "children": [
       "IPY_MODEL_0c7737c30ac64003a3c509a20b34299f",
       "IPY_MODEL_038d1f851ecb4a7aa43a34d16fb779d9",
       "IPY_MODEL_3762f93299f64118ae8ff6cf927d53fb"
      ],
      "layout": "IPY_MODEL_a648e57c791443c6a19fbf12d85d1039"
     }
    },
    "a648e57c791443c6a19fbf12d85d1039": {
     "model_module": "@jupyter-widgets/base",
     "model_module_version": "1.2.0",
     "model_name": "LayoutModel",
     "state": {
      "_model_module": "@jupyter-widgets/base",
      "_model_module_version": "1.2.0",
      "_model_name": "LayoutModel",
      "_view_count": null,
      "_view_module": "@jupyter-widgets/base",
      "_view_module_version": "1.2.0",
      "_view_name": "LayoutView",
      "align_content": null,
      "align_items": null,
      "align_self": null,
      "border": null,
      "bottom": null,
      "display": null,
      "flex": null,
      "flex_flow": null,
      "grid_area": null,
      "grid_auto_columns": null,
      "grid_auto_flow": null,
      "grid_auto_rows": null,
      "grid_column": null,
      "grid_gap": null,
      "grid_row": null,
      "grid_template_areas": null,
      "grid_template_columns": null,
      "grid_template_rows": null,
      "height": null,
      "justify_content": null,
      "justify_items": null,
      "left": null,
      "margin": null,
      "max_height": null,
      "max_width": null,
      "min_height": null,
      "min_width": null,
      "object_fit": null,
      "object_position": null,
      "order": null,
      "overflow": null,
      "overflow_x": null,
      "overflow_y": null,
      "padding": null,
      "right": null,
      "top": null,
      "visibility": null,
      "width": null
     }
    },
    "cb88cc49c1624f038f1a2bf1fe40e152": {
     "model_module": "@jupyter-widgets/controls",
     "model_module_version": "1.5.0",
     "model_name": "DescriptionStyleModel",
     "state": {
      "_model_module": "@jupyter-widgets/controls",
      "_model_module_version": "1.5.0",
      "_model_name": "DescriptionStyleModel",
      "_view_count": null,
      "_view_module": "@jupyter-widgets/base",
      "_view_module_version": "1.2.0",
      "_view_name": "StyleView",
      "description_width": ""
     }
    }
   }
  }
 },
 "nbformat": 4,
 "nbformat_minor": 0
}
