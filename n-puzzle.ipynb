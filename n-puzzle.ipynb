{
 "cells": [
  {
   "cell_type": "code",
   "execution_count": 250,
   "metadata": {
    "id": "ry_y1CNYjxvt"
   },
   "outputs": [],
   "source": [
    "import functools\n",
    "from collections import namedtuple\n",
    "from random import choice\n",
    "from tqdm.auto import tqdm\n",
    "import numpy as np\n",
    "from queue import PriorityQueue\n",
    "from numpy import array_str\n",
    "import heapq\n",
    "import logging\n",
    "\n",
    "\n"
   ]
  },
  {
   "cell_type": "code",
   "execution_count": 204,
   "metadata": {
    "id": "jQqCbgHjj7M3"
   },
   "outputs": [],
   "source": [
    "PUZZLE_DIM = 2  ### change to 5\n",
    "action = namedtuple('Action', ['pos1', 'pos2'])"
   ]
  },
  {
   "cell_type": "code",
   "execution_count": 39,
   "metadata": {},
   "outputs": [],
   "source": [
    "### put before the function the @\n",
    "def counter(fn):\n",
    "    \"\"\"Simple decorator for counting number of calls\"\"\"\n",
    "\n",
    "    @functools.wraps(fn)\n",
    "    def helper(*args, **kargs):\n",
    "        helper.calls += 1\n",
    "        return fn(*args, **kargs)\n",
    "\n",
    "    helper.calls = 0\n",
    "    return helper"
   ]
  },
  {
   "cell_type": "code",
   "execution_count": null,
   "metadata": {
    "id": "r2Lcpky3j7W8"
   },
   "outputs": [],
   "source": [
    "def available_actions(state: np.ndarray) -> list['Action']:\n",
    "    x, y = [int(_[0]) for _ in np.where(state == 0)]\n",
    "    actions = list()\n",
    "    if x > 0:\n",
    "        actions.append(action((x, y), (x - 1, y)))\n",
    "    if x < PUZZLE_DIM - 1:\n",
    "        actions.append(action((x, y), (x + 1, y)))\n",
    "    if y > 0:\n",
    "        actions.append(action((x, y), (x, y - 1)))\n",
    "    if y < PUZZLE_DIM - 1:\n",
    "        actions.append(action((x, y), (x, y + 1)))\n",
    "    return actions\n",
    "\n",
    "\n",
    "\n",
    "def do_action(state: np.ndarray, action: 'Action') -> np.ndarray:\n",
    "    new_state = state.copy()\n",
    "    new_state[action.pos1], new_state[action.pos2] = new_state[action.pos2], new_state[action.pos1]\n",
    "    return new_state"
   ]
  },
  {
   "cell_type": "markdown",
   "metadata": {},
   "source": [
    "More function"
   ]
  },
  {
   "cell_type": "code",
   "execution_count": 205,
   "metadata": {
    "colab": {
     "base_uri": "https://localhost:8080/"
    },
    "executionInfo": {
     "elapsed": 721,
     "status": "ok",
     "timestamp": 1731487513759,
     "user": {
      "displayName": "Davide Monaco",
      "userId": "10089346750858121532"
     },
     "user_tz": -60
    },
    "id": "KmQf4VHNj7tn",
    "outputId": "c31a4fe7-f5b2-4069-aacb-0b3d6ab67295"
   },
   "outputs": [
    {
     "name": "stdout",
     "output_type": "stream",
     "text": [
      "[[1 2]\n",
      " [3 0]]\n"
     ]
    }
   ],
   "source": [
    "RANDOMIZE_STEPS = 100_000\n",
    "state = np.array([i for i in range(1, PUZZLE_DIM**2)] + [0]).reshape((PUZZLE_DIM, PUZZLE_DIM))\n",
    "goal = state\n",
    "print(state)"
   ]
  },
  {
   "cell_type": "code",
   "execution_count": 207,
   "metadata": {},
   "outputs": [],
   "source": [
    "def goal_function( state ,goal ):\n",
    "    label = np.array_equal(state, goal)\n",
    "    if(label):\n",
    "        return True\n",
    "    else:\n",
    "        return False"
   ]
  },
  {
   "cell_type": "code",
   "execution_count": 208,
   "metadata": {
    "colab": {
     "base_uri": "https://localhost:8080/",
     "height": 139,
     "referenced_widgets": [
      "921c065425624900afbca75a2b9916ed",
      "0c7737c30ac64003a3c509a20b34299f",
      "038d1f851ecb4a7aa43a34d16fb779d9",
      "3762f93299f64118ae8ff6cf927d53fb",
      "a648e57c791443c6a19fbf12d85d1039",
      "23f170bca529442d9be637d1b42ab36e",
      "35f029ebdc204a75be5aa884875a8b83",
      "6f8ed2feda2248e4a3d1a43541ea4929",
      "5a6e56ac233544f69d7d781d0b17944e",
      "2a9ae84c8e77425abde82f4b80b17938",
      "cb88cc49c1624f038f1a2bf1fe40e152"
     ]
    },
    "executionInfo": {
     "elapsed": 2596,
     "status": "ok",
     "timestamp": 1731487520741,
     "user": {
      "displayName": "Davide Monaco",
      "userId": "10089346750858121532"
     },
     "user_tz": -60
    },
    "id": "72_rws33j8Ih",
    "outputId": "1c995baa-384e-4438-bed6-9d53b33e6c93"
   },
   "outputs": [
    {
     "name": "stderr",
     "output_type": "stream",
     "text": [
      "Randomizing: 100%|██████████| 100000/100000 [00:00<00:00, 150450.28it/s]\n"
     ]
    },
    {
     "data": {
      "text/plain": [
       "array([[0, 3],\n",
       "       [2, 1]])"
      ]
     },
     "execution_count": 208,
     "metadata": {},
     "output_type": "execute_result"
    }
   ],
   "source": [
    "for r in tqdm(range(RANDOMIZE_STEPS), desc='Randomizing'):\n",
    "    state = do_action(state, choice(available_actions(state)))\n",
    "state"
   ]
  },
  {
   "cell_type": "code",
   "execution_count": null,
   "metadata": {},
   "outputs": [],
   "source": [
    "class CustomPriorityQueue:\n",
    "    def __init__(self):\n",
    "        self.pq = PriorityQueue()  # The actual PriorityQueue\n",
    "        self.items_set = set()  # Set to track items in the queue\n",
    "        self.count = 0  # Variable to keep track of the number of elements\n",
    "    \n",
    "    def put(self, item, priority):\n",
    "        self.pq.put((item, priority))  # Add to the PriorityQueue\n",
    "        self.items_set.add(priority)  # Track item in the set\n",
    "        self.count += 1  # Increment the count when an item is added\n",
    "\n",
    "    def get(self):\n",
    "        priority, item = self.pq.get()  # Get from the PriorityQueue\n",
    "        self.items_set.remove(priority)  # Remove from the set\n",
    "        self.count -= 1  # Increment the count when an item is added\n",
    "        return item, priority\n",
    "    \n",
    "    def contains(self, item):\n",
    "        return item in self.items_set  # Check if the item exists in the set\n",
    "    \n",
    "    def empty(self):\n",
    "        return self.pq.empty()  # Check if the PriorityQueue is empty\n",
    "    \n",
    "    def size(self):\n",
    "        return self.count  # Return the number of elements in the queue"
   ]
  },
  {
   "cell_type": "code",
   "execution_count": 248,
   "metadata": {},
   "outputs": [],
   "source": [
    "####\n",
    "\n",
    "def search( initial_state , cost_function):\n",
    "    state =initial_state\n",
    "    frontier = CustomPriorityQueue()\n",
    "    state_cost = dict() \n",
    "    parent_state = dict()\n",
    "    global_state = dict() \n",
    "\n",
    "    state_cost[array_str(state)] = 0\n",
    "    parent_state[array_str(state)] = None\n",
    "    global_state[array_str(state)] = state\n",
    "\n",
    "    while state is not None and not goal_function(state, goal):\n",
    "        for a in available_actions(state):\n",
    "            new_state = do_action(state,a)\n",
    "            cost = cost_function(a)   ### given an action, give you the cost\n",
    "            if(array_str(new_state) not in state_cost and not frontier.contains(array_str(new_state)) ):\n",
    "                state_cost[array_str(new_state)]= state_cost[array_str(state)]  + cost\n",
    "                new_cost = state_cost[array_str(new_state)]\n",
    "                parent_state[array_str(new_state)] = state\n",
    "                global_state[array_str(new_state)] = new_state\n",
    "                frontier.put(  new_cost  , array_str(new_state)   )  ### priority item\n",
    "            elif( frontier.contains(array_str(new_state)) and state_cost[array_str(new_state)] > state_cost[array_str(state)] + cost):  #array_str(new_state) in frontier\n",
    "                parent_state[array_str(new_state)] = state\n",
    "                state_cost[array_str(new_state)] = state_cost[array_str(state)] + cost\n",
    "                global_state[array_str(new_state)] = new_state\n",
    "        \n",
    "        if not frontier.empty():\n",
    "                tuple = frontier.get()\n",
    "                arr_state = tuple[0]\n",
    "                state = global_state[arr_state]\n",
    "        else:\n",
    "            state = None\n",
    "    path = list()\n",
    "    s = state\n",
    "    flag =True\n",
    "    while flag:        \n",
    "        # Check if array_str(s) is not None\n",
    "        if array_str(s) is not None:\n",
    "            path.append(parent_state[array_str(s)])\n",
    "            s = parent_state[array_str(s)]\n",
    "            if(s is None):\n",
    "                flag= False\n",
    "    print(f\"Found a solution in {len(path):,} steps; visited {len(state_cost):,} states\")\n",
    "    return list(reversed(path))\n"
   ]
  },
  {
   "cell_type": "code",
   "execution_count": 249,
   "metadata": {},
   "outputs": [
    {
     "name": "stdout",
     "output_type": "stream",
     "text": [
      "Found a solution in 7 steps; visited 12 states\n",
      "[None, array([[0, 3],\n",
      "       [2, 1]]), array([[3, 0],\n",
      "       [2, 1]]), array([[3, 1],\n",
      "       [2, 0]]), array([[3, 1],\n",
      "       [0, 2]]), array([[0, 1],\n",
      "       [3, 2]]), array([[1, 0],\n",
      "       [3, 2]])]\n"
     ]
    }
   ],
   "source": [
    "solution = search( state , lambda x: 1)\n",
    "print(solution)"
   ]
  }
 ],
 "metadata": {
  "colab": {
   "authorship_tag": "ABX9TyMyx8SZyxteEYwPpU+yRFJe",
   "provenance": []
  },
  "kernelspec": {
   "display_name": ".venv",
   "language": "python",
   "name": "python3"
  },
  "language_info": {
   "codemirror_mode": {
    "name": "ipython",
    "version": 3
   },
   "file_extension": ".py",
   "mimetype": "text/x-python",
   "name": "python",
   "nbconvert_exporter": "python",
   "pygments_lexer": "ipython3",
   "version": "3.10.11"
  },
  "widgets": {
   "application/vnd.jupyter.widget-state+json": {
    "038d1f851ecb4a7aa43a34d16fb779d9": {
     "model_module": "@jupyter-widgets/controls",
     "model_module_version": "1.5.0",
     "model_name": "FloatProgressModel",
     "state": {
      "_dom_classes": [],
      "_model_module": "@jupyter-widgets/controls",
      "_model_module_version": "1.5.0",
      "_model_name": "FloatProgressModel",
      "_view_count": null,
      "_view_module": "@jupyter-widgets/controls",
      "_view_module_version": "1.5.0",
      "_view_name": "ProgressView",
      "bar_style": "success",
      "description": "",
      "description_tooltip": null,
      "layout": "IPY_MODEL_6f8ed2feda2248e4a3d1a43541ea4929",
      "max": 100000,
      "min": 0,
      "orientation": "horizontal",
      "style": "IPY_MODEL_5a6e56ac233544f69d7d781d0b17944e",
      "value": 100000
     }
    },
    "0c7737c30ac64003a3c509a20b34299f": {
     "model_module": "@jupyter-widgets/controls",
     "model_module_version": "1.5.0",
     "model_name": "HTMLModel",
     "state": {
      "_dom_classes": [],
      "_model_module": "@jupyter-widgets/controls",
      "_model_module_version": "1.5.0",
      "_model_name": "HTMLModel",
      "_view_count": null,
      "_view_module": "@jupyter-widgets/controls",
      "_view_module_version": "1.5.0",
      "_view_name": "HTMLView",
      "description": "",
      "description_tooltip": null,
      "layout": "IPY_MODEL_23f170bca529442d9be637d1b42ab36e",
      "placeholder": "​",
      "style": "IPY_MODEL_35f029ebdc204a75be5aa884875a8b83",
      "value": "Randomizing: 100%"
     }
    },
    "23f170bca529442d9be637d1b42ab36e": {
     "model_module": "@jupyter-widgets/base",
     "model_module_version": "1.2.0",
     "model_name": "LayoutModel",
     "state": {
      "_model_module": "@jupyter-widgets/base",
      "_model_module_version": "1.2.0",
      "_model_name": "LayoutModel",
      "_view_count": null,
      "_view_module": "@jupyter-widgets/base",
      "_view_module_version": "1.2.0",
      "_view_name": "LayoutView",
      "align_content": null,
      "align_items": null,
      "align_self": null,
      "border": null,
      "bottom": null,
      "display": null,
      "flex": null,
      "flex_flow": null,
      "grid_area": null,
      "grid_auto_columns": null,
      "grid_auto_flow": null,
      "grid_auto_rows": null,
      "grid_column": null,
      "grid_gap": null,
      "grid_row": null,
      "grid_template_areas": null,
      "grid_template_columns": null,
      "grid_template_rows": null,
      "height": null,
      "justify_content": null,
      "justify_items": null,
      "left": null,
      "margin": null,
      "max_height": null,
      "max_width": null,
      "min_height": null,
      "min_width": null,
      "object_fit": null,
      "object_position": null,
      "order": null,
      "overflow": null,
      "overflow_x": null,
      "overflow_y": null,
      "padding": null,
      "right": null,
      "top": null,
      "visibility": null,
      "width": null
     }
    },
    "2a9ae84c8e77425abde82f4b80b17938": {
     "model_module": "@jupyter-widgets/base",
     "model_module_version": "1.2.0",
     "model_name": "LayoutModel",
     "state": {
      "_model_module": "@jupyter-widgets/base",
      "_model_module_version": "1.2.0",
      "_model_name": "LayoutModel",
      "_view_count": null,
      "_view_module": "@jupyter-widgets/base",
      "_view_module_version": "1.2.0",
      "_view_name": "LayoutView",
      "align_content": null,
      "align_items": null,
      "align_self": null,
      "border": null,
      "bottom": null,
      "display": null,
      "flex": null,
      "flex_flow": null,
      "grid_area": null,
      "grid_auto_columns": null,
      "grid_auto_flow": null,
      "grid_auto_rows": null,
      "grid_column": null,
      "grid_gap": null,
      "grid_row": null,
      "grid_template_areas": null,
      "grid_template_columns": null,
      "grid_template_rows": null,
      "height": null,
      "justify_content": null,
      "justify_items": null,
      "left": null,
      "margin": null,
      "max_height": null,
      "max_width": null,
      "min_height": null,
      "min_width": null,
      "object_fit": null,
      "object_position": null,
      "order": null,
      "overflow": null,
      "overflow_x": null,
      "overflow_y": null,
      "padding": null,
      "right": null,
      "top": null,
      "visibility": null,
      "width": null
     }
    },
    "35f029ebdc204a75be5aa884875a8b83": {
     "model_module": "@jupyter-widgets/controls",
     "model_module_version": "1.5.0",
     "model_name": "DescriptionStyleModel",
     "state": {
      "_model_module": "@jupyter-widgets/controls",
      "_model_module_version": "1.5.0",
      "_model_name": "DescriptionStyleModel",
      "_view_count": null,
      "_view_module": "@jupyter-widgets/base",
      "_view_module_version": "1.2.0",
      "_view_name": "StyleView",
      "description_width": ""
     }
    },
    "3762f93299f64118ae8ff6cf927d53fb": {
     "model_module": "@jupyter-widgets/controls",
     "model_module_version": "1.5.0",
     "model_name": "HTMLModel",
     "state": {
      "_dom_classes": [],
      "_model_module": "@jupyter-widgets/controls",
      "_model_module_version": "1.5.0",
      "_model_name": "HTMLModel",
      "_view_count": null,
      "_view_module": "@jupyter-widgets/controls",
      "_view_module_version": "1.5.0",
      "_view_name": "HTMLView",
      "description": "",
      "description_tooltip": null,
      "layout": "IPY_MODEL_2a9ae84c8e77425abde82f4b80b17938",
      "placeholder": "​",
      "style": "IPY_MODEL_cb88cc49c1624f038f1a2bf1fe40e152",
      "value": " 100000/100000 [00:01&lt;00:00, 57205.11it/s]"
     }
    },
    "5a6e56ac233544f69d7d781d0b17944e": {
     "model_module": "@jupyter-widgets/controls",
     "model_module_version": "1.5.0",
     "model_name": "ProgressStyleModel",
     "state": {
      "_model_module": "@jupyter-widgets/controls",
      "_model_module_version": "1.5.0",
      "_model_name": "ProgressStyleModel",
      "_view_count": null,
      "_view_module": "@jupyter-widgets/base",
      "_view_module_version": "1.2.0",
      "_view_name": "StyleView",
      "bar_color": null,
      "description_width": ""
     }
    },
    "6f8ed2feda2248e4a3d1a43541ea4929": {
     "model_module": "@jupyter-widgets/base",
     "model_module_version": "1.2.0",
     "model_name": "LayoutModel",
     "state": {
      "_model_module": "@jupyter-widgets/base",
      "_model_module_version": "1.2.0",
      "_model_name": "LayoutModel",
      "_view_count": null,
      "_view_module": "@jupyter-widgets/base",
      "_view_module_version": "1.2.0",
      "_view_name": "LayoutView",
      "align_content": null,
      "align_items": null,
      "align_self": null,
      "border": null,
      "bottom": null,
      "display": null,
      "flex": null,
      "flex_flow": null,
      "grid_area": null,
      "grid_auto_columns": null,
      "grid_auto_flow": null,
      "grid_auto_rows": null,
      "grid_column": null,
      "grid_gap": null,
      "grid_row": null,
      "grid_template_areas": null,
      "grid_template_columns": null,
      "grid_template_rows": null,
      "height": null,
      "justify_content": null,
      "justify_items": null,
      "left": null,
      "margin": null,
      "max_height": null,
      "max_width": null,
      "min_height": null,
      "min_width": null,
      "object_fit": null,
      "object_position": null,
      "order": null,
      "overflow": null,
      "overflow_x": null,
      "overflow_y": null,
      "padding": null,
      "right": null,
      "top": null,
      "visibility": null,
      "width": null
     }
    },
    "921c065425624900afbca75a2b9916ed": {
     "model_module": "@jupyter-widgets/controls",
     "model_module_version": "1.5.0",
     "model_name": "HBoxModel",
     "state": {
      "_dom_classes": [],
      "_model_module": "@jupyter-widgets/controls",
      "_model_module_version": "1.5.0",
      "_model_name": "HBoxModel",
      "_view_count": null,
      "_view_module": "@jupyter-widgets/controls",
      "_view_module_version": "1.5.0",
      "_view_name": "HBoxView",
      "box_style": "",
      "children": [
       "IPY_MODEL_0c7737c30ac64003a3c509a20b34299f",
       "IPY_MODEL_038d1f851ecb4a7aa43a34d16fb779d9",
       "IPY_MODEL_3762f93299f64118ae8ff6cf927d53fb"
      ],
      "layout": "IPY_MODEL_a648e57c791443c6a19fbf12d85d1039"
     }
    },
    "a648e57c791443c6a19fbf12d85d1039": {
     "model_module": "@jupyter-widgets/base",
     "model_module_version": "1.2.0",
     "model_name": "LayoutModel",
     "state": {
      "_model_module": "@jupyter-widgets/base",
      "_model_module_version": "1.2.0",
      "_model_name": "LayoutModel",
      "_view_count": null,
      "_view_module": "@jupyter-widgets/base",
      "_view_module_version": "1.2.0",
      "_view_name": "LayoutView",
      "align_content": null,
      "align_items": null,
      "align_self": null,
      "border": null,
      "bottom": null,
      "display": null,
      "flex": null,
      "flex_flow": null,
      "grid_area": null,
      "grid_auto_columns": null,
      "grid_auto_flow": null,
      "grid_auto_rows": null,
      "grid_column": null,
      "grid_gap": null,
      "grid_row": null,
      "grid_template_areas": null,
      "grid_template_columns": null,
      "grid_template_rows": null,
      "height": null,
      "justify_content": null,
      "justify_items": null,
      "left": null,
      "margin": null,
      "max_height": null,
      "max_width": null,
      "min_height": null,
      "min_width": null,
      "object_fit": null,
      "object_position": null,
      "order": null,
      "overflow": null,
      "overflow_x": null,
      "overflow_y": null,
      "padding": null,
      "right": null,
      "top": null,
      "visibility": null,
      "width": null
     }
    },
    "cb88cc49c1624f038f1a2bf1fe40e152": {
     "model_module": "@jupyter-widgets/controls",
     "model_module_version": "1.5.0",
     "model_name": "DescriptionStyleModel",
     "state": {
      "_model_module": "@jupyter-widgets/controls",
      "_model_module_version": "1.5.0",
      "_model_name": "DescriptionStyleModel",
      "_view_count": null,
      "_view_module": "@jupyter-widgets/base",
      "_view_module_version": "1.2.0",
      "_view_name": "StyleView",
      "description_width": ""
     }
    }
   }
  }
 },
 "nbformat": 4,
 "nbformat_minor": 0
}
